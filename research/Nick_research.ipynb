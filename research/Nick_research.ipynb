{
 "cells": [
  {
   "cell_type": "code",
   "execution_count": 1,
   "metadata": {},
   "outputs": [],
   "source": [
    "import os\n",
    "import sys\n",
    "module_path = os.path.abspath(os.path.join('..'))\n",
    "if module_path not in sys.path:\n",
    "    sys.path.append(module_path)"
   ]
  },
  {
   "cell_type": "code",
   "execution_count": 2,
   "metadata": {},
   "outputs": [],
   "source": [
    "%load_ext autoreload"
   ]
  },
  {
   "cell_type": "code",
   "execution_count": 3,
   "metadata": {},
   "outputs": [],
   "source": [
    "%load_ext line_profiler"
   ]
  },
  {
   "cell_type": "code",
   "execution_count": 4,
   "metadata": {},
   "outputs": [],
   "source": [
    "%autoreload 2"
   ]
  },
  {
   "cell_type": "code",
   "execution_count": 5,
   "metadata": {},
   "outputs": [],
   "source": [
    "import math\n",
    "import numpy as np\n",
    "import pandas as pd\n",
    "import datetime as dt\n",
    "\n",
    "import matplotlib.pyplot as plt\n",
    "import seaborn as sns\n",
    "import scipy "
   ]
  },
  {
   "cell_type": "code",
   "execution_count": 6,
   "metadata": {},
   "outputs": [],
   "source": [
    "import statsmodels.api as sm"
   ]
  },
  {
   "cell_type": "code",
   "execution_count": 9,
   "metadata": {},
   "outputs": [],
   "source": [
    "from datahandling import DataHandler\n",
    "from preprocessing import Preprocessor, Standardizer"
   ]
  },
  {
   "cell_type": "markdown",
   "metadata": {},
   "source": [
    "## Importing data"
   ]
  },
  {
   "cell_type": "code",
   "execution_count": 10,
   "metadata": {},
   "outputs": [],
   "source": [
    "raw_df = DataHandler().read()"
   ]
  },
  {
   "cell_type": "markdown",
   "metadata": {},
   "source": [
    "## Checking for discontinuities of bad range in data"
   ]
  },
  {
   "cell_type": "code",
   "execution_count": 12,
   "metadata": {},
   "outputs": [
    {
     "name": "stdout",
     "output_type": "stream",
     "text": [
      "No bad data found\n"
     ]
    }
   ],
   "source": [
    "for (Id, date), daily_data in raw_df.groupby([\"Id\", pd.Grouper(level=0, freq='1D')]):\n",
    "    d = daily_data\n",
    "    if d.index[0].time() != dt.time(9, 45):\n",
    "        print(f\"id {Id} has starts late ({d.index[0].time()}) on day {date}\")\n",
    "        break\n",
    "    if d.index[-1].time() != dt.time(16, 0):\n",
    "         print(f\"id {Id} has ends early ({d.index[-1].time()}) on day {date}\")\n",
    "            \n",
    "    if (d.index != pd.date_range(start=d.index[0], end=d.index[-1], freq='15T', inclusive=\"both\")).any():\n",
    "        print(f\"id {Id} has discontinuous data on day {date}\")\n",
    "        break\n",
    "        \n",
    "print(\"No bad data found\")"
   ]
  },
  {
   "cell_type": "code",
   "execution_count": null,
   "metadata": {},
   "outputs": [],
   "source": [
    "# => we can use index values as there is no discontinuities"
   ]
  },
  {
   "cell_type": "markdown",
   "metadata": {},
   "source": [
    "## Checking matching data between daily and intraday"
   ]
  },
  {
   "cell_type": "code",
   "execution_count": 24,
   "metadata": {
    "scrolled": false
   },
   "outputs": [],
   "source": [
    "last_data = raw_df.groupby([\"Id\", pd.Grouper(level=0, freq=\"D\")]).last()"
   ]
  },
  {
   "cell_type": "code",
   "execution_count": 31,
   "metadata": {},
   "outputs": [
    {
     "data": {
      "text/html": [
       "<div>\n",
       "<style scoped>\n",
       "    .dataframe tbody tr th:only-of-type {\n",
       "        vertical-align: middle;\n",
       "    }\n",
       "\n",
       "    .dataframe tbody tr th {\n",
       "        vertical-align: top;\n",
       "    }\n",
       "\n",
       "    .dataframe thead th {\n",
       "        text-align: right;\n",
       "    }\n",
       "</style>\n",
       "<table border=\"1\" class=\"dataframe\">\n",
       "  <thead>\n",
       "    <tr style=\"text-align: right;\">\n",
       "      <th></th>\n",
       "      <th></th>\n",
       "      <th>CumReturnResid</th>\n",
       "      <th>CumReturnRaw</th>\n",
       "      <th>CumVolume</th>\n",
       "      <th>SYMBOL</th>\n",
       "      <th>MIC</th>\n",
       "      <th>FREE_FLOAT_PERCENTAGE</th>\n",
       "      <th>EST_VOL</th>\n",
       "      <th>MDV_63</th>\n",
       "      <th>Open</th>\n",
       "      <th>High</th>\n",
       "      <th>Low</th>\n",
       "      <th>Close</th>\n",
       "      <th>Volume</th>\n",
       "      <th>PxAdjFactor</th>\n",
       "      <th>SharesAdjFactor</th>\n",
       "      <th>DailyReturn</th>\n",
       "    </tr>\n",
       "    <tr>\n",
       "      <th>Id</th>\n",
       "      <th></th>\n",
       "      <th></th>\n",
       "      <th></th>\n",
       "      <th></th>\n",
       "      <th></th>\n",
       "      <th></th>\n",
       "      <th></th>\n",
       "      <th></th>\n",
       "      <th></th>\n",
       "      <th></th>\n",
       "      <th></th>\n",
       "      <th></th>\n",
       "      <th></th>\n",
       "      <th></th>\n",
       "      <th></th>\n",
       "      <th></th>\n",
       "      <th></th>\n",
       "    </tr>\n",
       "  </thead>\n",
       "  <tbody>\n",
       "    <tr>\n",
       "      <th rowspan=\"5\" valign=\"top\">BBG000B9WH86</th>\n",
       "      <th>2010-01-04</th>\n",
       "      <td>-0.000919</td>\n",
       "      <td>0.032249</td>\n",
       "      <td>25160630</td>\n",
       "      <td>AA</td>\n",
       "      <td>XNYS</td>\n",
       "      <td>99.7169</td>\n",
       "      <td>0.17017</td>\n",
       "      <td>392090530.0</td>\n",
       "      <td>16.47</td>\n",
       "      <td>16.890</td>\n",
       "      <td>16.40</td>\n",
       "      <td>16.65</td>\n",
       "      <td>25872368.0</td>\n",
       "      <td>1.059996</td>\n",
       "      <td>1.0</td>\n",
       "      <td>NaN</td>\n",
       "    </tr>\n",
       "    <tr>\n",
       "      <th>2010-01-05</th>\n",
       "      <td>-0.037940</td>\n",
       "      <td>-0.031241</td>\n",
       "      <td>48945660</td>\n",
       "      <td>AA</td>\n",
       "      <td>XNYS</td>\n",
       "      <td>99.7170</td>\n",
       "      <td>0.18214</td>\n",
       "      <td>392090530.0</td>\n",
       "      <td>16.83</td>\n",
       "      <td>16.850</td>\n",
       "      <td>16.03</td>\n",
       "      <td>16.13</td>\n",
       "      <td>49862200.0</td>\n",
       "      <td>1.059996</td>\n",
       "      <td>1.0</td>\n",
       "      <td>-0.031231</td>\n",
       "    </tr>\n",
       "    <tr>\n",
       "      <th>2010-01-06</th>\n",
       "      <td>0.021264</td>\n",
       "      <td>0.050234</td>\n",
       "      <td>44739384</td>\n",
       "      <td>AA</td>\n",
       "      <td>XNYS</td>\n",
       "      <td>99.7170</td>\n",
       "      <td>0.18960</td>\n",
       "      <td>392090530.0</td>\n",
       "      <td>16.31</td>\n",
       "      <td>17.060</td>\n",
       "      <td>16.26</td>\n",
       "      <td>16.97</td>\n",
       "      <td>46703668.0</td>\n",
       "      <td>1.059996</td>\n",
       "      <td>1.0</td>\n",
       "      <td>0.052077</td>\n",
       "    </tr>\n",
       "    <tr>\n",
       "      <th>2010-01-07</th>\n",
       "      <td>-0.018720</td>\n",
       "      <td>-0.020077</td>\n",
       "      <td>37071020</td>\n",
       "      <td>AA</td>\n",
       "      <td>XNYS</td>\n",
       "      <td>99.7170</td>\n",
       "      <td>0.19430</td>\n",
       "      <td>392090530.0</td>\n",
       "      <td>16.52</td>\n",
       "      <td>16.660</td>\n",
       "      <td>16.30</td>\n",
       "      <td>16.61</td>\n",
       "      <td>38641508.0</td>\n",
       "      <td>1.059996</td>\n",
       "      <td>1.0</td>\n",
       "      <td>-0.021214</td>\n",
       "    </tr>\n",
       "    <tr>\n",
       "      <th>2010-01-08</th>\n",
       "      <td>-0.002510</td>\n",
       "      <td>0.024103</td>\n",
       "      <td>32271728</td>\n",
       "      <td>AA</td>\n",
       "      <td>XNYS</td>\n",
       "      <td>99.7170</td>\n",
       "      <td>0.20632</td>\n",
       "      <td>392090530.0</td>\n",
       "      <td>16.46</td>\n",
       "      <td>17.020</td>\n",
       "      <td>16.45</td>\n",
       "      <td>17.02</td>\n",
       "      <td>33081926.0</td>\n",
       "      <td>1.059996</td>\n",
       "      <td>1.0</td>\n",
       "      <td>0.024684</td>\n",
       "    </tr>\n",
       "    <tr>\n",
       "      <th>...</th>\n",
       "      <th>...</th>\n",
       "      <td>...</td>\n",
       "      <td>...</td>\n",
       "      <td>...</td>\n",
       "      <td>...</td>\n",
       "      <td>...</td>\n",
       "      <td>...</td>\n",
       "      <td>...</td>\n",
       "      <td>...</td>\n",
       "      <td>...</td>\n",
       "      <td>...</td>\n",
       "      <td>...</td>\n",
       "      <td>...</td>\n",
       "      <td>...</td>\n",
       "      <td>...</td>\n",
       "      <td>...</td>\n",
       "      <td>...</td>\n",
       "    </tr>\n",
       "    <tr>\n",
       "      <th rowspan=\"5\" valign=\"top\">GEN_EQ0140919900001000</th>\n",
       "      <th>2011-01-12</th>\n",
       "      <td>0.004308</td>\n",
       "      <td>0.005457</td>\n",
       "      <td>1978935</td>\n",
       "      <td>PGN</td>\n",
       "      <td>XNYS</td>\n",
       "      <td>99.7662</td>\n",
       "      <td>0.07674</td>\n",
       "      <td>63214480.0</td>\n",
       "      <td>43.94</td>\n",
       "      <td>44.275</td>\n",
       "      <td>43.93</td>\n",
       "      <td>44.24</td>\n",
       "      <td>2064663.0</td>\n",
       "      <td>1.218775</td>\n",
       "      <td>1.0</td>\n",
       "      <td>0.006598</td>\n",
       "    </tr>\n",
       "    <tr>\n",
       "      <th>2011-01-13</th>\n",
       "      <td>0.007952</td>\n",
       "      <td>0.006559</td>\n",
       "      <td>1865174</td>\n",
       "      <td>PGN</td>\n",
       "      <td>XNYS</td>\n",
       "      <td>99.7662</td>\n",
       "      <td>0.07198</td>\n",
       "      <td>63598716.0</td>\n",
       "      <td>44.20</td>\n",
       "      <td>44.550</td>\n",
       "      <td>44.20</td>\n",
       "      <td>44.52</td>\n",
       "      <td>1962341.0</td>\n",
       "      <td>1.218775</td>\n",
       "      <td>1.0</td>\n",
       "      <td>0.006329</td>\n",
       "    </tr>\n",
       "    <tr>\n",
       "      <th>2011-01-14</th>\n",
       "      <td>0.002274</td>\n",
       "      <td>0.005392</td>\n",
       "      <td>1396973</td>\n",
       "      <td>PGN</td>\n",
       "      <td>XNYS</td>\n",
       "      <td>99.7662</td>\n",
       "      <td>0.07388</td>\n",
       "      <td>63598716.0</td>\n",
       "      <td>44.41</td>\n",
       "      <td>44.830</td>\n",
       "      <td>44.26</td>\n",
       "      <td>44.73</td>\n",
       "      <td>1543797.0</td>\n",
       "      <td>1.218775</td>\n",
       "      <td>1.0</td>\n",
       "      <td>0.004717</td>\n",
       "    </tr>\n",
       "    <tr>\n",
       "      <th>2011-01-18</th>\n",
       "      <td>0.003268</td>\n",
       "      <td>0.005363</td>\n",
       "      <td>1430620</td>\n",
       "      <td>PGN</td>\n",
       "      <td>XNYS</td>\n",
       "      <td>99.7662</td>\n",
       "      <td>0.06739</td>\n",
       "      <td>63598716.0</td>\n",
       "      <td>44.74</td>\n",
       "      <td>45.000</td>\n",
       "      <td>44.64</td>\n",
       "      <td>44.96</td>\n",
       "      <td>1534524.0</td>\n",
       "      <td>1.218775</td>\n",
       "      <td>1.0</td>\n",
       "      <td>0.005142</td>\n",
       "    </tr>\n",
       "    <tr>\n",
       "      <th>2011-01-19</th>\n",
       "      <td>-0.000118</td>\n",
       "      <td>-0.001779</td>\n",
       "      <td>1358290</td>\n",
       "      <td>PGN</td>\n",
       "      <td>XNYS</td>\n",
       "      <td>99.7662</td>\n",
       "      <td>0.07528</td>\n",
       "      <td>63598716.0</td>\n",
       "      <td>44.95</td>\n",
       "      <td>45.050</td>\n",
       "      <td>44.85</td>\n",
       "      <td>44.90</td>\n",
       "      <td>1499454.0</td>\n",
       "      <td>1.218775</td>\n",
       "      <td>1.0</td>\n",
       "      <td>-0.001335</td>\n",
       "    </tr>\n",
       "  </tbody>\n",
       "</table>\n",
       "<p>629000 rows × 16 columns</p>\n",
       "</div>"
      ],
      "text/plain": [
       "                                   CumReturnResid  CumReturnRaw  CumVolume  \\\n",
       "Id                                                                           \n",
       "BBG000B9WH86           2010-01-04       -0.000919      0.032249   25160630   \n",
       "                       2010-01-05       -0.037940     -0.031241   48945660   \n",
       "                       2010-01-06        0.021264      0.050234   44739384   \n",
       "                       2010-01-07       -0.018720     -0.020077   37071020   \n",
       "                       2010-01-08       -0.002510      0.024103   32271728   \n",
       "...                                           ...           ...        ...   \n",
       "GEN_EQ0140919900001000 2011-01-12        0.004308      0.005457    1978935   \n",
       "                       2011-01-13        0.007952      0.006559    1865174   \n",
       "                       2011-01-14        0.002274      0.005392    1396973   \n",
       "                       2011-01-18        0.003268      0.005363    1430620   \n",
       "                       2011-01-19       -0.000118     -0.001779    1358290   \n",
       "\n",
       "                                  SYMBOL   MIC  FREE_FLOAT_PERCENTAGE  \\\n",
       "Id                                                                      \n",
       "BBG000B9WH86           2010-01-04     AA  XNYS                99.7169   \n",
       "                       2010-01-05     AA  XNYS                99.7170   \n",
       "                       2010-01-06     AA  XNYS                99.7170   \n",
       "                       2010-01-07     AA  XNYS                99.7170   \n",
       "                       2010-01-08     AA  XNYS                99.7170   \n",
       "...                                  ...   ...                    ...   \n",
       "GEN_EQ0140919900001000 2011-01-12    PGN  XNYS                99.7662   \n",
       "                       2011-01-13    PGN  XNYS                99.7662   \n",
       "                       2011-01-14    PGN  XNYS                99.7662   \n",
       "                       2011-01-18    PGN  XNYS                99.7662   \n",
       "                       2011-01-19    PGN  XNYS                99.7662   \n",
       "\n",
       "                                   EST_VOL       MDV_63   Open    High    Low  \\\n",
       "Id                                                                              \n",
       "BBG000B9WH86           2010-01-04  0.17017  392090530.0  16.47  16.890  16.40   \n",
       "                       2010-01-05  0.18214  392090530.0  16.83  16.850  16.03   \n",
       "                       2010-01-06  0.18960  392090530.0  16.31  17.060  16.26   \n",
       "                       2010-01-07  0.19430  392090530.0  16.52  16.660  16.30   \n",
       "                       2010-01-08  0.20632  392090530.0  16.46  17.020  16.45   \n",
       "...                                    ...          ...    ...     ...    ...   \n",
       "GEN_EQ0140919900001000 2011-01-12  0.07674   63214480.0  43.94  44.275  43.93   \n",
       "                       2011-01-13  0.07198   63598716.0  44.20  44.550  44.20   \n",
       "                       2011-01-14  0.07388   63598716.0  44.41  44.830  44.26   \n",
       "                       2011-01-18  0.06739   63598716.0  44.74  45.000  44.64   \n",
       "                       2011-01-19  0.07528   63598716.0  44.95  45.050  44.85   \n",
       "\n",
       "                                   Close      Volume  PxAdjFactor  \\\n",
       "Id                                                                  \n",
       "BBG000B9WH86           2010-01-04  16.65  25872368.0     1.059996   \n",
       "                       2010-01-05  16.13  49862200.0     1.059996   \n",
       "                       2010-01-06  16.97  46703668.0     1.059996   \n",
       "                       2010-01-07  16.61  38641508.0     1.059996   \n",
       "                       2010-01-08  17.02  33081926.0     1.059996   \n",
       "...                                  ...         ...          ...   \n",
       "GEN_EQ0140919900001000 2011-01-12  44.24   2064663.0     1.218775   \n",
       "                       2011-01-13  44.52   1962341.0     1.218775   \n",
       "                       2011-01-14  44.73   1543797.0     1.218775   \n",
       "                       2011-01-18  44.96   1534524.0     1.218775   \n",
       "                       2011-01-19  44.90   1499454.0     1.218775   \n",
       "\n",
       "                                   SharesAdjFactor  DailyReturn  \n",
       "Id                                                               \n",
       "BBG000B9WH86           2010-01-04              1.0          NaN  \n",
       "                       2010-01-05              1.0    -0.031231  \n",
       "                       2010-01-06              1.0     0.052077  \n",
       "                       2010-01-07              1.0    -0.021214  \n",
       "                       2010-01-08              1.0     0.024684  \n",
       "...                                            ...          ...  \n",
       "GEN_EQ0140919900001000 2011-01-12              1.0     0.006598  \n",
       "                       2011-01-13              1.0     0.006329  \n",
       "                       2011-01-14              1.0     0.004717  \n",
       "                       2011-01-18              1.0     0.005142  \n",
       "                       2011-01-19              1.0    -0.001335  \n",
       "\n",
       "[629000 rows x 16 columns]"
      ]
     },
     "execution_count": 31,
     "metadata": {},
     "output_type": "execute_result"
    }
   ],
   "source": [
    "last_data"
   ]
  },
  {
   "cell_type": "code",
   "execution_count": 52,
   "metadata": {},
   "outputs": [],
   "source": [
    "last_data[\"DailyReturn\"] =  (last_data[\"Close\"] * last_data[\"PxAdjFactor\"]).groupby(\"Id\").pct_change()\n"
   ]
  },
  {
   "cell_type": "code",
   "execution_count": 56,
   "metadata": {},
   "outputs": [],
   "source": [
    "last_data[\"ReturnError\"] = ((last_data[\"CumReturnRaw\"] - last_data[\"DailyReturn\"]).abs() / last_data[\"DailyReturn\"].abs()).clip(-1, 1)\n"
   ]
  },
  {
   "cell_type": "code",
   "execution_count": 57,
   "metadata": {},
   "outputs": [],
   "source": [
    "last_data[\"VolumeError\"] = ((last_data[\"CumVolume\"] - last_data[\"Volume\"]).abs() / last_data[\"Volume\"]).clip(-1, 1)"
   ]
  },
  {
   "cell_type": "code",
   "execution_count": 58,
   "metadata": {},
   "outputs": [
    {
     "data": {
      "text/plain": [
       "array([[<Axes: title={'center': 'ReturnError'}>,\n",
       "        <Axes: title={'center': 'VolumeError'}>]], dtype=object)"
      ]
     },
     "execution_count": 58,
     "metadata": {},
     "output_type": "execute_result"
    },
    {
     "data": {
      "image/png": "[encoded data removed]",
      "text/plain": [
       "<Figure size 640x480 with 2 Axes>"
      ]
     },
     "metadata": {},
     "output_type": "display_data"
    }
   ],
   "source": [
    "last_data[[\"ReturnError\", \"VolumeError\"]].hist()"
   ]
  },
  {
   "cell_type": "code",
   "execution_count": 61,
   "metadata": {},
   "outputs": [
    {
     "data": {
      "text/plain": [
       "array([[<Axes: title={'center': 'ReturnError'}>,\n",
       "        <Axes: title={'center': 'VolumeError'}>]], dtype=object)"
      ]
     },
     "execution_count": 61,
     "metadata": {},
     "output_type": "execute_result"
    },
    {
     "data": {
      "image/png": "[encoded data removed]",
      "text/plain": [
       "<Figure size 640x480 with 2 Axes>"
      ]
     },
     "metadata": {},
     "output_type": "display_data"
    }
   ],
   "source": [
    "last_data[[\"ReturnError\", \"VolumeError\"]].clip(0, 0.05).hist()"
   ]
  },
  {
   "cell_type": "markdown",
   "metadata": {},
   "source": [
    "## Checking Turnover"
   ]
  },
  {
   "cell_type": "code",
   "execution_count": 89,
   "metadata": {},
   "outputs": [
    {
     "data": {
      "text/html": [
       "<div>\n",
       "<style scoped>\n",
       "    .dataframe tbody tr th:only-of-type {\n",
       "        vertical-align: middle;\n",
       "    }\n",
       "\n",
       "    .dataframe tbody tr th {\n",
       "        vertical-align: top;\n",
       "    }\n",
       "\n",
       "    .dataframe thead th {\n",
       "        text-align: right;\n",
       "    }\n",
       "</style>\n",
       "<table border=\"1\" class=\"dataframe\">\n",
       "  <thead>\n",
       "    <tr style=\"text-align: right;\">\n",
       "      <th></th>\n",
       "      <th>Id</th>\n",
       "      <th>TomorrowsID</th>\n",
       "    </tr>\n",
       "  </thead>\n",
       "  <tbody>\n",
       "    <tr>\n",
       "      <th>2010-01-04</th>\n",
       "      <td>[BBG000MQ1SN9, BBG000BBCQD7, BBG000BBB3K1, BBG...</td>\n",
       "      <td>[BBG000MQ1SN9, BBG000BBB3K1, BBG000BNMHS4, BBG...</td>\n",
       "    </tr>\n",
       "    <tr>\n",
       "      <th>2010-01-05</th>\n",
       "      <td>[BBG000MQ1SN9, BBG000BBB3K1, BBG000BNMHS4, BBG...</td>\n",
       "      <td>[BBG000BJNGN9, BBG000CPHYL4, BBG000MQ1SN9, BBG...</td>\n",
       "    </tr>\n",
       "    <tr>\n",
       "      <th>2010-01-06</th>\n",
       "      <td>[BBG000BJNGN9, BBG000CPHYL4, BBG000MQ1SN9, BBG...</td>\n",
       "      <td>[BBG000BJNGN9, BBG000BBCQD7, BBG000MQ1SN9, BBG...</td>\n",
       "    </tr>\n",
       "    <tr>\n",
       "      <th>2010-01-07</th>\n",
       "      <td>[BBG000BJNGN9, BBG000BBCQD7, BBG000MQ1SN9, BBG...</td>\n",
       "      <td>[BBG000C04224, BBG000BC9938, BBG000BBCQD7, BBG...</td>\n",
       "    </tr>\n",
       "    <tr>\n",
       "      <th>2010-01-08</th>\n",
       "      <td>[BBG000C04224, BBG000BC9938, BBG000BBCQD7, BBG...</td>\n",
       "      <td>[BBG000BJNGN9, BBG000BR1W32, BBG000BBB3K1, BBG...</td>\n",
       "    </tr>\n",
       "    <tr>\n",
       "      <th>...</th>\n",
       "      <td>...</td>\n",
       "      <td>...</td>\n",
       "    </tr>\n",
       "    <tr>\n",
       "      <th>2014-12-23</th>\n",
       "      <td>[BBG000R8ZVD1, BBG000BGFZR8, BBG000BF3NZ1, BBG...</td>\n",
       "      <td>[BBG000BQG2C4, BBG000R8ZVD1, BBG000BGFZR8, BBG...</td>\n",
       "    </tr>\n",
       "    <tr>\n",
       "      <th>2014-12-24</th>\n",
       "      <td>[BBG000BQG2C4, BBG000R8ZVD1, BBG000BGFZR8, BBG...</td>\n",
       "      <td>[BBG000BFVXX0, BBG000BQG2C4, BBG000R8ZVD1, BBG...</td>\n",
       "    </tr>\n",
       "    <tr>\n",
       "      <th>2014-12-26</th>\n",
       "      <td>[BBG000BFVXX0, BBG000BQG2C4, BBG000R8ZVD1, BBG...</td>\n",
       "      <td>[BBG000BB38Q3, BBG000BQG2C4, BBG000BFVXX0, BBG...</td>\n",
       "    </tr>\n",
       "    <tr>\n",
       "      <th>2014-12-29</th>\n",
       "      <td>[BBG000BB38Q3, BBG000BQG2C4, BBG000BFVXX0, BBG...</td>\n",
       "      <td>[BBG000BQD1J2, BBG000BQG2C4, BBG000BFVXX0, BBG...</td>\n",
       "    </tr>\n",
       "    <tr>\n",
       "      <th>2014-12-30</th>\n",
       "      <td>[BBG000BQD1J2, BBG000BQG2C4, BBG000BFVXX0, BBG...</td>\n",
       "      <td>[BBG000G8N9C6, BBG000BQD1J2, BBG000BNPSQ9, BBG...</td>\n",
       "    </tr>\n",
       "  </tbody>\n",
       "</table>\n",
       "<p>1257 rows × 2 columns</p>\n",
       "</div>"
      ],
      "text/plain": [
       "                                                           Id  \\\n",
       "2010-01-04  [BBG000MQ1SN9, BBG000BBCQD7, BBG000BBB3K1, BBG...   \n",
       "2010-01-05  [BBG000MQ1SN9, BBG000BBB3K1, BBG000BNMHS4, BBG...   \n",
       "2010-01-06  [BBG000BJNGN9, BBG000CPHYL4, BBG000MQ1SN9, BBG...   \n",
       "2010-01-07  [BBG000BJNGN9, BBG000BBCQD7, BBG000MQ1SN9, BBG...   \n",
       "2010-01-08  [BBG000C04224, BBG000BC9938, BBG000BBCQD7, BBG...   \n",
       "...                                                       ...   \n",
       "2014-12-23  [BBG000R8ZVD1, BBG000BGFZR8, BBG000BF3NZ1, BBG...   \n",
       "2014-12-24  [BBG000BQG2C4, BBG000R8ZVD1, BBG000BGFZR8, BBG...   \n",
       "2014-12-26  [BBG000BFVXX0, BBG000BQG2C4, BBG000R8ZVD1, BBG...   \n",
       "2014-12-29  [BBG000BB38Q3, BBG000BQG2C4, BBG000BFVXX0, BBG...   \n",
       "2014-12-30  [BBG000BQD1J2, BBG000BQG2C4, BBG000BFVXX0, BBG...   \n",
       "\n",
       "                                                  TomorrowsID  \n",
       "2010-01-04  [BBG000MQ1SN9, BBG000BBB3K1, BBG000BNMHS4, BBG...  \n",
       "2010-01-05  [BBG000BJNGN9, BBG000CPHYL4, BBG000MQ1SN9, BBG...  \n",
       "2010-01-06  [BBG000BJNGN9, BBG000BBCQD7, BBG000MQ1SN9, BBG...  \n",
       "2010-01-07  [BBG000C04224, BBG000BC9938, BBG000BBCQD7, BBG...  \n",
       "2010-01-08  [BBG000BJNGN9, BBG000BR1W32, BBG000BBB3K1, BBG...  \n",
       "...                                                       ...  \n",
       "2014-12-23  [BBG000BQG2C4, BBG000R8ZVD1, BBG000BGFZR8, BBG...  \n",
       "2014-12-24  [BBG000BFVXX0, BBG000BQG2C4, BBG000R8ZVD1, BBG...  \n",
       "2014-12-26  [BBG000BB38Q3, BBG000BQG2C4, BBG000BFVXX0, BBG...  \n",
       "2014-12-29  [BBG000BQD1J2, BBG000BQG2C4, BBG000BFVXX0, BBG...  \n",
       "2014-12-30  [BBG000G8N9C6, BBG000BQD1J2, BBG000BNPSQ9, BBG...  \n",
       "\n",
       "[1257 rows x 2 columns]"
      ]
     },
     "execution_count": 89,
     "metadata": {},
     "output_type": "execute_result"
    }
   ],
   "source": [
    "daily_ids = raw_df.groupby(pd.Grouper(level=0, freq=\"D\"))[\"Id\"].unique().to_frame()\n",
    "daily_ids = daily_ids[daily_ids.apply(lambda x: x.values[0].shape[0], axis=1)>0]\n",
    "daily_ids[\"TomorrowsID\"] = daily_ids.shift(-1)\n",
    "daily_ids.drop(daily_ids.tail(1).index, inplace=True)\n",
    "daily_ids"
   ]
  },
  {
   "cell_type": "code",
   "execution_count": 92,
   "metadata": {},
   "outputs": [],
   "source": [
    "compute_changes = lambda row: np.concatenate([np.setdiff1d(row[\"Id\"], row[\"TomorrowsID\"]), np.setdiff1d(row[\"TomorrowsID\"],row[\"Id\"])])"
   ]
  },
  {
   "cell_type": "code",
   "execution_count": 93,
   "metadata": {},
   "outputs": [
    {
     "data": {
      "text/html": [
       "<div>\n",
       "<style scoped>\n",
       "    .dataframe tbody tr th:only-of-type {\n",
       "        vertical-align: middle;\n",
       "    }\n",
       "\n",
       "    .dataframe tbody tr th {\n",
       "        vertical-align: top;\n",
       "    }\n",
       "\n",
       "    .dataframe thead th {\n",
       "        text-align: right;\n",
       "    }\n",
       "</style>\n",
       "<table border=\"1\" class=\"dataframe\">\n",
       "  <thead>\n",
       "    <tr style=\"text-align: right;\">\n",
       "      <th></th>\n",
       "      <th>Id</th>\n",
       "      <th>TomorrowsID</th>\n",
       "      <th>Changes</th>\n",
       "      <th>Turnover</th>\n",
       "    </tr>\n",
       "  </thead>\n",
       "  <tbody>\n",
       "    <tr>\n",
       "      <th>2010-01-04</th>\n",
       "      <td>[BBG000MQ1SN9, BBG000BBCQD7, BBG000BBB3K1, BBG...</td>\n",
       "      <td>[BBG000MQ1SN9, BBG000BBB3K1, BBG000BNMHS4, BBG...</td>\n",
       "      <td>[BBG000BBCQD7, GEN_EQ0010168800001000]</td>\n",
       "      <td>0.004</td>\n",
       "    </tr>\n",
       "    <tr>\n",
       "      <th>2010-01-05</th>\n",
       "      <td>[BBG000MQ1SN9, BBG000BBB3K1, BBG000BNMHS4, BBG...</td>\n",
       "      <td>[BBG000BJNGN9, BBG000CPHYL4, BBG000MQ1SN9, BBG...</td>\n",
       "      <td>[BBG000BBB3K1, GEN_EQ0010168800001000, BBG000B...</td>\n",
       "      <td>0.008</td>\n",
       "    </tr>\n",
       "    <tr>\n",
       "      <th>2010-01-06</th>\n",
       "      <td>[BBG000BJNGN9, BBG000CPHYL4, BBG000MQ1SN9, BBG...</td>\n",
       "      <td>[BBG000BJNGN9, BBG000BBCQD7, BBG000MQ1SN9, BBG...</td>\n",
       "      <td>[BBG000C23PB0, BBG000JF5CV9, BBG000BBB3K1, BBG...</td>\n",
       "      <td>0.008</td>\n",
       "    </tr>\n",
       "    <tr>\n",
       "      <th>2010-01-07</th>\n",
       "      <td>[BBG000BJNGN9, BBG000BBCQD7, BBG000MQ1SN9, BBG...</td>\n",
       "      <td>[BBG000C04224, BBG000BC9938, BBG000BBCQD7, BBG...</td>\n",
       "      <td>[BBG000BJNGN9, BBG000BNMHS4, BBG000BC9938, BBG...</td>\n",
       "      <td>0.008</td>\n",
       "    </tr>\n",
       "    <tr>\n",
       "      <th>2010-01-08</th>\n",
       "      <td>[BBG000C04224, BBG000BC9938, BBG000BBCQD7, BBG...</td>\n",
       "      <td>[BBG000BJNGN9, BBG000BR1W32, BBG000BBB3K1, BBG...</td>\n",
       "      <td>[BBG000BC9938, BBG000C04224, BBG000CPHYL4, BBG...</td>\n",
       "      <td>0.012</td>\n",
       "    </tr>\n",
       "    <tr>\n",
       "      <th>...</th>\n",
       "      <td>...</td>\n",
       "      <td>...</td>\n",
       "      <td>...</td>\n",
       "      <td>...</td>\n",
       "    </tr>\n",
       "    <tr>\n",
       "      <th>2014-12-23</th>\n",
       "      <td>[BBG000R8ZVD1, BBG000BGFZR8, BBG000BF3NZ1, BBG...</td>\n",
       "      <td>[BBG000BQG2C4, BBG000R8ZVD1, BBG000BGFZR8, BBG...</td>\n",
       "      <td>[BBG000BR37X2, BBG000BQG2C4]</td>\n",
       "      <td>0.004</td>\n",
       "    </tr>\n",
       "    <tr>\n",
       "      <th>2014-12-24</th>\n",
       "      <td>[BBG000BQG2C4, BBG000R8ZVD1, BBG000BGFZR8, BBG...</td>\n",
       "      <td>[BBG000BFVXX0, BBG000BQG2C4, BBG000R8ZVD1, BBG...</td>\n",
       "      <td>[BBG000BVN235, BBG000BFVXX0]</td>\n",
       "      <td>0.004</td>\n",
       "    </tr>\n",
       "    <tr>\n",
       "      <th>2014-12-26</th>\n",
       "      <td>[BBG000BFVXX0, BBG000BQG2C4, BBG000R8ZVD1, BBG...</td>\n",
       "      <td>[BBG000BB38Q3, BBG000BQG2C4, BBG000BFVXX0, BBG...</td>\n",
       "      <td>[BBG000BGFZR8, BBG000BB38Q3]</td>\n",
       "      <td>0.004</td>\n",
       "    </tr>\n",
       "    <tr>\n",
       "      <th>2014-12-29</th>\n",
       "      <td>[BBG000BB38Q3, BBG000BQG2C4, BBG000BFVXX0, BBG...</td>\n",
       "      <td>[BBG000BQD1J2, BBG000BQG2C4, BBG000BFVXX0, BBG...</td>\n",
       "      <td>[BBG000BB38Q3, BBG000BQD1J2]</td>\n",
       "      <td>0.004</td>\n",
       "    </tr>\n",
       "    <tr>\n",
       "      <th>2014-12-30</th>\n",
       "      <td>[BBG000BQD1J2, BBG000BQG2C4, BBG000BFVXX0, BBG...</td>\n",
       "      <td>[BBG000G8N9C6, BBG000BQD1J2, BBG000BNPSQ9, BBG...</td>\n",
       "      <td>[BBG000BV3SC0, BBG000C11MQ5, BBG000BNPSQ9, BBG...</td>\n",
       "      <td>0.008</td>\n",
       "    </tr>\n",
       "  </tbody>\n",
       "</table>\n",
       "<p>1257 rows × 4 columns</p>\n",
       "</div>"
      ],
      "text/plain": [
       "                                                           Id  \\\n",
       "2010-01-04  [BBG000MQ1SN9, BBG000BBCQD7, BBG000BBB3K1, BBG...   \n",
       "2010-01-05  [BBG000MQ1SN9, BBG000BBB3K1, BBG000BNMHS4, BBG...   \n",
       "2010-01-06  [BBG000BJNGN9, BBG000CPHYL4, BBG000MQ1SN9, BBG...   \n",
       "2010-01-07  [BBG000BJNGN9, BBG000BBCQD7, BBG000MQ1SN9, BBG...   \n",
       "2010-01-08  [BBG000C04224, BBG000BC9938, BBG000BBCQD7, BBG...   \n",
       "...                                                       ...   \n",
       "2014-12-23  [BBG000R8ZVD1, BBG000BGFZR8, BBG000BF3NZ1, BBG...   \n",
       "2014-12-24  [BBG000BQG2C4, BBG000R8ZVD1, BBG000BGFZR8, BBG...   \n",
       "2014-12-26  [BBG000BFVXX0, BBG000BQG2C4, BBG000R8ZVD1, BBG...   \n",
       "2014-12-29  [BBG000BB38Q3, BBG000BQG2C4, BBG000BFVXX0, BBG...   \n",
       "2014-12-30  [BBG000BQD1J2, BBG000BQG2C4, BBG000BFVXX0, BBG...   \n",
       "\n",
       "                                                  TomorrowsID  \\\n",
       "2010-01-04  [BBG000MQ1SN9, BBG000BBB3K1, BBG000BNMHS4, BBG...   \n",
       "2010-01-05  [BBG000BJNGN9, BBG000CPHYL4, BBG000MQ1SN9, BBG...   \n",
       "2010-01-06  [BBG000BJNGN9, BBG000BBCQD7, BBG000MQ1SN9, BBG...   \n",
       "2010-01-07  [BBG000C04224, BBG000BC9938, BBG000BBCQD7, BBG...   \n",
       "2010-01-08  [BBG000BJNGN9, BBG000BR1W32, BBG000BBB3K1, BBG...   \n",
       "...                                                       ...   \n",
       "2014-12-23  [BBG000BQG2C4, BBG000R8ZVD1, BBG000BGFZR8, BBG...   \n",
       "2014-12-24  [BBG000BFVXX0, BBG000BQG2C4, BBG000R8ZVD1, BBG...   \n",
       "2014-12-26  [BBG000BB38Q3, BBG000BQG2C4, BBG000BFVXX0, BBG...   \n",
       "2014-12-29  [BBG000BQD1J2, BBG000BQG2C4, BBG000BFVXX0, BBG...   \n",
       "2014-12-30  [BBG000G8N9C6, BBG000BQD1J2, BBG000BNPSQ9, BBG...   \n",
       "\n",
       "                                                      Changes  Turnover  \n",
       "2010-01-04             [BBG000BBCQD7, GEN_EQ0010168800001000]     0.004  \n",
       "2010-01-05  [BBG000BBB3K1, GEN_EQ0010168800001000, BBG000B...     0.008  \n",
       "2010-01-06  [BBG000C23PB0, BBG000JF5CV9, BBG000BBB3K1, BBG...     0.008  \n",
       "2010-01-07  [BBG000BJNGN9, BBG000BNMHS4, BBG000BC9938, BBG...     0.008  \n",
       "2010-01-08  [BBG000BC9938, BBG000C04224, BBG000CPHYL4, BBG...     0.012  \n",
       "...                                                       ...       ...  \n",
       "2014-12-23                       [BBG000BR37X2, BBG000BQG2C4]     0.004  \n",
       "2014-12-24                       [BBG000BVN235, BBG000BFVXX0]     0.004  \n",
       "2014-12-26                       [BBG000BGFZR8, BBG000BB38Q3]     0.004  \n",
       "2014-12-29                       [BBG000BB38Q3, BBG000BQD1J2]     0.004  \n",
       "2014-12-30  [BBG000BV3SC0, BBG000C11MQ5, BBG000BNPSQ9, BBG...     0.008  \n",
       "\n",
       "[1257 rows x 4 columns]"
      ]
     },
     "execution_count": 93,
     "metadata": {},
     "output_type": "execute_result"
    }
   ],
   "source": [
    "daily_ids[\"Changes\"] = daily_ids.apply(compute_changes, axis=1)\n",
    "daily_ids[\"Turnover\"] = daily_ids[\"Changes\"].apply(len)/daily_ids[\"Id\"].apply(len)\n",
    "daily_ids"
   ]
  },
  {
   "cell_type": "code",
   "execution_count": 94,
   "metadata": {},
   "outputs": [
    {
     "data": {
      "text/plain": [
       "<Axes: >"
      ]
     },
     "execution_count": 94,
     "metadata": {},
     "output_type": "execute_result"
    },
    {
     "data": {
      "image/png": "[encoded data removed]",
      "text/plain": [
       "<Figure size 640x480 with 1 Axes>"
      ]
     },
     "metadata": {},
     "output_type": "display_data"
    }
   ],
   "source": [
    "daily_ids[\"Turnover\"].plot()\n"
   ]
  },
  {
   "cell_type": "markdown",
   "metadata": {},
   "source": [
    "## Checking Preprocessor"
   ]
  },
  {
   "cell_type": "code",
   "execution_count": 95,
   "metadata": {},
   "outputs": [
    {
     "data": {
      "text/html": [
       "<div>\n",
       "<style scoped>\n",
       "    .dataframe tbody tr th:only-of-type {\n",
       "        vertical-align: middle;\n",
       "    }\n",
       "\n",
       "    .dataframe tbody tr th {\n",
       "        vertical-align: top;\n",
       "    }\n",
       "\n",
       "    .dataframe thead th {\n",
       "        text-align: right;\n",
       "    }\n",
       "</style>\n",
       "<table border=\"1\" class=\"dataframe\">\n",
       "  <thead>\n",
       "    <tr style=\"text-align: right;\">\n",
       "      <th></th>\n",
       "      <th>Id</th>\n",
       "      <th>CumReturnResid</th>\n",
       "      <th>CumReturnRaw</th>\n",
       "      <th>CumVolume</th>\n",
       "      <th>SYMBOL</th>\n",
       "      <th>MIC</th>\n",
       "      <th>FREE_FLOAT_PERCENTAGE</th>\n",
       "      <th>EST_VOL</th>\n",
       "      <th>MDV_63</th>\n",
       "      <th>Open</th>\n",
       "      <th>High</th>\n",
       "      <th>Low</th>\n",
       "      <th>Close</th>\n",
       "      <th>Volume</th>\n",
       "      <th>PxAdjFactor</th>\n",
       "      <th>SharesAdjFactor</th>\n",
       "    </tr>\n",
       "  </thead>\n",
       "  <tbody>\n",
       "    <tr>\n",
       "      <th>2010-01-04 09:45:00</th>\n",
       "      <td>BBG000MQ1SN9</td>\n",
       "      <td>0.002070</td>\n",
       "      <td>0.012778</td>\n",
       "      <td>43347</td>\n",
       "      <td>DVA</td>\n",
       "      <td>XNYS</td>\n",
       "      <td>99.6464</td>\n",
       "      <td>0.13074</td>\n",
       "      <td>4.383275e+07</td>\n",
       "      <td>59.12</td>\n",
       "      <td>60.05</td>\n",
       "      <td>59.09</td>\n",
       "      <td>59.92</td>\n",
       "      <td>955120.0</td>\n",
       "      <td>1.000000</td>\n",
       "      <td>1.000000</td>\n",
       "    </tr>\n",
       "    <tr>\n",
       "      <th>2010-01-04 09:45:00</th>\n",
       "      <td>BBG000BBCQD7</td>\n",
       "      <td>-0.012105</td>\n",
       "      <td>0.007787</td>\n",
       "      <td>229661</td>\n",
       "      <td>SLM</td>\n",
       "      <td>XNYS</td>\n",
       "      <td>99.1117</td>\n",
       "      <td>0.31610</td>\n",
       "      <td>4.409296e+07</td>\n",
       "      <td>11.45</td>\n",
       "      <td>11.72</td>\n",
       "      <td>11.32</td>\n",
       "      <td>11.54</td>\n",
       "      <td>2566745.0</td>\n",
       "      <td>1.000000</td>\n",
       "      <td>1.000000</td>\n",
       "    </tr>\n",
       "    <tr>\n",
       "      <th>2010-01-04 09:45:00</th>\n",
       "      <td>BBG000BBB3K1</td>\n",
       "      <td>-0.001020</td>\n",
       "      <td>0.001321</td>\n",
       "      <td>62697</td>\n",
       "      <td>RAI</td>\n",
       "      <td>XNYS</td>\n",
       "      <td>57.7643</td>\n",
       "      <td>0.11253</td>\n",
       "      <td>7.588626e+07</td>\n",
       "      <td>53.33</td>\n",
       "      <td>53.52</td>\n",
       "      <td>53.00</td>\n",
       "      <td>53.24</td>\n",
       "      <td>812905.0</td>\n",
       "      <td>1.160364</td>\n",
       "      <td>1.000000</td>\n",
       "    </tr>\n",
       "    <tr>\n",
       "      <th>2010-01-04 09:45:00</th>\n",
       "      <td>BBG000BNMHS4</td>\n",
       "      <td>0.012179</td>\n",
       "      <td>0.025810</td>\n",
       "      <td>47650</td>\n",
       "      <td>MAN</td>\n",
       "      <td>XNYS</td>\n",
       "      <td>99.3401</td>\n",
       "      <td>0.18568</td>\n",
       "      <td>4.413393e+07</td>\n",
       "      <td>54.94</td>\n",
       "      <td>56.58</td>\n",
       "      <td>54.78</td>\n",
       "      <td>56.41</td>\n",
       "      <td>1108030.0</td>\n",
       "      <td>1.034430</td>\n",
       "      <td>1.000000</td>\n",
       "    </tr>\n",
       "    <tr>\n",
       "      <th>2010-01-04 09:45:00</th>\n",
       "      <td>BBG000C23PB0</td>\n",
       "      <td>0.003520</td>\n",
       "      <td>0.008454</td>\n",
       "      <td>239259</td>\n",
       "      <td>SAI</td>\n",
       "      <td>XNYS</td>\n",
       "      <td>99.1347</td>\n",
       "      <td>0.11252</td>\n",
       "      <td>4.440541e+07</td>\n",
       "      <td>19.02</td>\n",
       "      <td>19.17</td>\n",
       "      <td>18.89</td>\n",
       "      <td>19.11</td>\n",
       "      <td>3500468.0</td>\n",
       "      <td>1.000000</td>\n",
       "      <td>1.000000</td>\n",
       "    </tr>\n",
       "    <tr>\n",
       "      <th>...</th>\n",
       "      <td>...</td>\n",
       "      <td>...</td>\n",
       "      <td>...</td>\n",
       "      <td>...</td>\n",
       "      <td>...</td>\n",
       "      <td>...</td>\n",
       "      <td>...</td>\n",
       "      <td>...</td>\n",
       "      <td>...</td>\n",
       "      <td>...</td>\n",
       "      <td>...</td>\n",
       "      <td>...</td>\n",
       "      <td>...</td>\n",
       "      <td>...</td>\n",
       "      <td>...</td>\n",
       "      <td>...</td>\n",
       "    </tr>\n",
       "    <tr>\n",
       "      <th>2014-12-31 16:00:00</th>\n",
       "      <td>BBG000BPH459</td>\n",
       "      <td>-0.003270</td>\n",
       "      <td>-0.011909</td>\n",
       "      <td>16810020</td>\n",
       "      <td>MSFT</td>\n",
       "      <td>XNGS</td>\n",
       "      <td>91.5633</td>\n",
       "      <td>0.12146</td>\n",
       "      <td>1.383197e+09</td>\n",
       "      <td>46.73</td>\n",
       "      <td>47.44</td>\n",
       "      <td>46.45</td>\n",
       "      <td>46.45</td>\n",
       "      <td>21551092.0</td>\n",
       "      <td>1.188881</td>\n",
       "      <td>1.000000</td>\n",
       "    </tr>\n",
       "    <tr>\n",
       "      <th>2014-12-31 16:00:00</th>\n",
       "      <td>BBG000GZQ728</td>\n",
       "      <td>-0.000065</td>\n",
       "      <td>-0.006342</td>\n",
       "      <td>9221446</td>\n",
       "      <td>XOM</td>\n",
       "      <td>XNYS</td>\n",
       "      <td>99.7689</td>\n",
       "      <td>0.09480</td>\n",
       "      <td>1.273231e+09</td>\n",
       "      <td>92.42</td>\n",
       "      <td>93.13</td>\n",
       "      <td>92.06</td>\n",
       "      <td>92.45</td>\n",
       "      <td>11326179.0</td>\n",
       "      <td>1.188282</td>\n",
       "      <td>1.000000</td>\n",
       "    </tr>\n",
       "    <tr>\n",
       "      <th>2014-12-31 16:00:00</th>\n",
       "      <td>BBG000CKGBP2</td>\n",
       "      <td>-0.008449</td>\n",
       "      <td>-0.010234</td>\n",
       "      <td>11508879</td>\n",
       "      <td>GILD</td>\n",
       "      <td>XNGS</td>\n",
       "      <td>99.4121</td>\n",
       "      <td>0.20535</td>\n",
       "      <td>1.589295e+09</td>\n",
       "      <td>96.00</td>\n",
       "      <td>96.75</td>\n",
       "      <td>94.24</td>\n",
       "      <td>94.26</td>\n",
       "      <td>13851283.0</td>\n",
       "      <td>2.000000</td>\n",
       "      <td>0.500000</td>\n",
       "    </tr>\n",
       "    <tr>\n",
       "      <th>2014-12-31 16:00:00</th>\n",
       "      <td>BBG000MM2P62</td>\n",
       "      <td>-0.005813</td>\n",
       "      <td>-0.015146</td>\n",
       "      <td>18519636</td>\n",
       "      <td>FB</td>\n",
       "      <td>XNGS</td>\n",
       "      <td>95.9988</td>\n",
       "      <td>0.17343</td>\n",
       "      <td>2.258944e+09</td>\n",
       "      <td>79.54</td>\n",
       "      <td>79.80</td>\n",
       "      <td>77.86</td>\n",
       "      <td>78.02</td>\n",
       "      <td>20004654.0</td>\n",
       "      <td>1.000000</td>\n",
       "      <td>1.000000</td>\n",
       "    </tr>\n",
       "    <tr>\n",
       "      <th>2014-12-31 16:00:00</th>\n",
       "      <td>BBG000B9XRY4</td>\n",
       "      <td>-0.009474</td>\n",
       "      <td>-0.018974</td>\n",
       "      <td>37043464</td>\n",
       "      <td>AAPL</td>\n",
       "      <td>XNGS</td>\n",
       "      <td>99.9441</td>\n",
       "      <td>0.16047</td>\n",
       "      <td>5.093251e+09</td>\n",
       "      <td>112.82</td>\n",
       "      <td>113.13</td>\n",
       "      <td>110.21</td>\n",
       "      <td>110.38</td>\n",
       "      <td>41304130.0</td>\n",
       "      <td>7.391928</td>\n",
       "      <td>0.142857</td>\n",
       "    </tr>\n",
       "  </tbody>\n",
       "</table>\n",
       "<p>16354000 rows × 16 columns</p>\n",
       "</div>"
      ],
      "text/plain": [
       "                               Id  CumReturnResid  CumReturnRaw  CumVolume  \\\n",
       "2010-01-04 09:45:00  BBG000MQ1SN9        0.002070      0.012778      43347   \n",
       "2010-01-04 09:45:00  BBG000BBCQD7       -0.012105      0.007787     229661   \n",
       "2010-01-04 09:45:00  BBG000BBB3K1       -0.001020      0.001321      62697   \n",
       "2010-01-04 09:45:00  BBG000BNMHS4        0.012179      0.025810      47650   \n",
       "2010-01-04 09:45:00  BBG000C23PB0        0.003520      0.008454     239259   \n",
       "...                           ...             ...           ...        ...   \n",
       "2014-12-31 16:00:00  BBG000BPH459       -0.003270     -0.011909   16810020   \n",
       "2014-12-31 16:00:00  BBG000GZQ728       -0.000065     -0.006342    9221446   \n",
       "2014-12-31 16:00:00  BBG000CKGBP2       -0.008449     -0.010234   11508879   \n",
       "2014-12-31 16:00:00  BBG000MM2P62       -0.005813     -0.015146   18519636   \n",
       "2014-12-31 16:00:00  BBG000B9XRY4       -0.009474     -0.018974   37043464   \n",
       "\n",
       "                    SYMBOL   MIC  FREE_FLOAT_PERCENTAGE  EST_VOL  \\\n",
       "2010-01-04 09:45:00    DVA  XNYS                99.6464  0.13074   \n",
       "2010-01-04 09:45:00    SLM  XNYS                99.1117  0.31610   \n",
       "2010-01-04 09:45:00    RAI  XNYS                57.7643  0.11253   \n",
       "2010-01-04 09:45:00    MAN  XNYS                99.3401  0.18568   \n",
       "2010-01-04 09:45:00    SAI  XNYS                99.1347  0.11252   \n",
       "...                    ...   ...                    ...      ...   \n",
       "2014-12-31 16:00:00   MSFT  XNGS                91.5633  0.12146   \n",
       "2014-12-31 16:00:00    XOM  XNYS                99.7689  0.09480   \n",
       "2014-12-31 16:00:00   GILD  XNGS                99.4121  0.20535   \n",
       "2014-12-31 16:00:00     FB  XNGS                95.9988  0.17343   \n",
       "2014-12-31 16:00:00   AAPL  XNGS                99.9441  0.16047   \n",
       "\n",
       "                           MDV_63    Open    High     Low   Close      Volume  \\\n",
       "2010-01-04 09:45:00  4.383275e+07   59.12   60.05   59.09   59.92    955120.0   \n",
       "2010-01-04 09:45:00  4.409296e+07   11.45   11.72   11.32   11.54   2566745.0   \n",
       "2010-01-04 09:45:00  7.588626e+07   53.33   53.52   53.00   53.24    812905.0   \n",
       "2010-01-04 09:45:00  4.413393e+07   54.94   56.58   54.78   56.41   1108030.0   \n",
       "2010-01-04 09:45:00  4.440541e+07   19.02   19.17   18.89   19.11   3500468.0   \n",
       "...                           ...     ...     ...     ...     ...         ...   \n",
       "2014-12-31 16:00:00  1.383197e+09   46.73   47.44   46.45   46.45  21551092.0   \n",
       "2014-12-31 16:00:00  1.273231e+09   92.42   93.13   92.06   92.45  11326179.0   \n",
       "2014-12-31 16:00:00  1.589295e+09   96.00   96.75   94.24   94.26  13851283.0   \n",
       "2014-12-31 16:00:00  2.258944e+09   79.54   79.80   77.86   78.02  20004654.0   \n",
       "2014-12-31 16:00:00  5.093251e+09  112.82  113.13  110.21  110.38  41304130.0   \n",
       "\n",
       "                     PxAdjFactor  SharesAdjFactor  \n",
       "2010-01-04 09:45:00     1.000000         1.000000  \n",
       "2010-01-04 09:45:00     1.000000         1.000000  \n",
       "2010-01-04 09:45:00     1.160364         1.000000  \n",
       "2010-01-04 09:45:00     1.034430         1.000000  \n",
       "2010-01-04 09:45:00     1.000000         1.000000  \n",
       "...                          ...              ...  \n",
       "2014-12-31 16:00:00     1.188881         1.000000  \n",
       "2014-12-31 16:00:00     1.188282         1.000000  \n",
       "2014-12-31 16:00:00     2.000000         0.500000  \n",
       "2014-12-31 16:00:00     1.000000         1.000000  \n",
       "2014-12-31 16:00:00     7.391928         0.142857  \n",
       "\n",
       "[16354000 rows x 16 columns]"
      ]
     },
     "execution_count": 95,
     "metadata": {},
     "output_type": "execute_result"
    }
   ],
   "source": [
    "raw_df"
   ]
  },
  {
   "cell_type": "code",
   "execution_count": null,
   "metadata": {},
   "outputs": [],
   "source": [
    "day_sep = raw_df[[\"Id\", \"CumReturnResid\"]].groupby([\"Id\", raw_df.index.date, raw_df.index.time>dt.time(15,30)]).last()\n",
    "day_sep"
   ]
  },
  {
   "cell_type": "code",
   "execution_count": null,
   "metadata": {},
   "outputs": [],
   "source": [
    "day_sep.xs(\"BBG000B9WH86\", level=0)"
   ]
  },
  {
   "cell_type": "code",
   "execution_count": null,
   "metadata": {},
   "outputs": [],
   "source": [
    "R1530_1600 = (-0.000919 +1) / (-0.002424+1) - 1\n",
    "R1530_1600"
   ]
  },
  {
   "cell_type": "code",
   "execution_count": null,
   "metadata": {},
   "outputs": [],
   "source": [
    "(R1530_1600 + 1) * (-0.039352 + 1) - 1"
   ]
  },
  {
   "cell_type": "code",
   "execution_count": null,
   "metadata": {},
   "outputs": [],
   "source": [
    "adj_end = day_sep.add(1).groupby(level=[0, 1]).pct_change().dropna().droplevel(2)\n",
    "adj_end"
   ]
  },
  {
   "cell_type": "code",
   "execution_count": null,
   "metadata": {},
   "outputs": [],
   "source": [
    "begin = day_sep.xs(False, level=2).shift(-1)\n",
    "begin"
   ]
  },
  {
   "cell_type": "code",
   "execution_count": null,
   "metadata": {},
   "outputs": [],
   "source": [
    "target = adj_end.merge(begin, how=\"inner\", left_index=True, right_index=True).stack().add(1).groupby(level=[0, 1]).prod().sub(1).rename(\"Target\").to_frame()"
   ]
  },
  {
   "cell_type": "code",
   "execution_count": null,
   "metadata": {},
   "outputs": [],
   "source": [
    "target"
   ]
  },
  {
   "cell_type": "code",
   "execution_count": null,
   "metadata": {},
   "outputs": [],
   "source": [
    "target.sort_index().unstack().T.droplevel(0)"
   ]
  },
  {
   "cell_type": "code",
   "execution_count": null,
   "metadata": {},
   "outputs": [],
   "source": []
  },
  {
   "cell_type": "markdown",
   "metadata": {},
   "source": [
    "## Comparing daily vs intraday volume"
   ]
  },
  {
   "cell_type": "code",
   "execution_count": null,
   "metadata": {},
   "outputs": [],
   "source": [
    "raw_df2 = DataHandler().read(end=\"2010-06-01\")"
   ]
  },
  {
   "cell_type": "code",
   "execution_count": null,
   "metadata": {},
   "outputs": [],
   "source": [
    "volume = raw_df2[[\"Id\", \"CumVolume\"]].groupby([\"Id\", raw_df2.index.date, raw_df2.index.time>=dt.time(10,0)]).last()\n",
    "volume"
   ]
  },
  {
   "cell_type": "code",
   "execution_count": null,
   "metadata": {},
   "outputs": [],
   "source": [
    "total_intra = volume.groupby(level=[0,1]).sum()\n",
    "total_intra"
   ]
  },
  {
   "cell_type": "code",
   "execution_count": null,
   "metadata": {},
   "outputs": [],
   "source": [
    "after10_vol = volume.groupby(level=[0,1]).diff()"
   ]
  },
  {
   "cell_type": "code",
   "execution_count": null,
   "metadata": {},
   "outputs": [],
   "source": [
    "after10_vol"
   ]
  },
  {
   "cell_type": "code",
   "execution_count": null,
   "metadata": {},
   "outputs": [],
   "source": [
    "total_vol = raw_df2.groupby([\"Id\", raw_df2.index.date])[\"Volume\"].first().astype(int).to_frame()\n",
    "total_vol"
   ]
  },
  {
   "cell_type": "code",
   "execution_count": null,
   "metadata": {},
   "outputs": [],
   "source": [
    "vol_diff = total_intra.merge(total_vol, how=\"outer\", left_index=True, right_index=True)"
   ]
  },
  {
   "cell_type": "code",
   "execution_count": null,
   "metadata": {},
   "outputs": [],
   "source": [
    "((vol_diff[\"CumVolume\"] - vol_diff[\"Volume\"]).abs() / vol_diff[\"Volume\"]).plot()"
   ]
  },
  {
   "cell_type": "code",
   "execution_count": null,
   "metadata": {},
   "outputs": [],
   "source": []
  },
  {
   "cell_type": "markdown",
   "metadata": {},
   "source": [
    "## Checking that intraday data is correct"
   ]
  },
  {
   "cell_type": "code",
   "execution_count": null,
   "metadata": {},
   "outputs": [],
   "source": [
    "intraday_tickdata = Preprocessor(raw_df).create_raw_intraday_features()"
   ]
  },
  {
   "cell_type": "code",
   "execution_count": null,
   "metadata": {},
   "outputs": [],
   "source": [
    "eval_copy_tick = intraday_tickdata.copy()\n",
    "eval_copy_tick[\"ResidReturn\"] = eval_copy_tick[\"ResidReturn\"].add(1)\n",
    "grouped_tick = eval_copy_tick.groupby([pd.Grouper(level=0), pd.Grouper(freq='1D', level=1)])\n",
    "agg_day_tick = pd.concat([grouped_tick[\"ResidReturn\"].prod().sub(1), grouped_tick[\"Volume\"].sum().astype(int)], axis=1)\n",
    "agg_day_tick"
   ]
  },
  {
   "cell_type": "code",
   "execution_count": null,
   "metadata": {},
   "outputs": [],
   "source": [
    "real_agg = raw_df2[[\"Id\", \"CumReturnResid\", \"CumVolume\"]].groupby([\"Id\", raw_df2.index.date]).last()\n",
    "real_agg"
   ]
  },
  {
   "cell_type": "code",
   "execution_count": null,
   "metadata": {},
   "outputs": [],
   "source": []
  },
  {
   "cell_type": "markdown",
   "metadata": {},
   "source": [
    "## Getting market weights by log"
   ]
  },
  {
   "cell_type": "code",
   "execution_count": null,
   "metadata": {},
   "outputs": [],
   "source": [
    "market_weights = np.log(raw_df.set_index(\"Id\", append=True).groupby([pd.Grouper(level=0, freq=\"D\"), pd.Grouper(level=1)])[\"MDV_63\"].first()).to_frame()"
   ]
  },
  {
   "cell_type": "code",
   "execution_count": null,
   "metadata": {},
   "outputs": [],
   "source": [
    "market_weights[\"Weight\"] = market_weights['MDV_63'] / market_weights.groupby(level=0)['MDV_63'].transform('sum')"
   ]
  },
  {
   "cell_type": "code",
   "execution_count": null,
   "metadata": {},
   "outputs": [],
   "source": [
    "market_weights.drop(\"MDV_63\", axis=1, inplace=True)"
   ]
  },
  {
   "cell_type": "code",
   "execution_count": null,
   "metadata": {},
   "outputs": [],
   "source": [
    "market_weights"
   ]
  },
  {
   "cell_type": "markdown",
   "metadata": {},
   "source": [
    "## Checking preprocessing"
   ]
  },
  {
   "cell_type": "code",
   "execution_count": null,
   "metadata": {},
   "outputs": [],
   "source": [
    "p = Preprocessor(raw_df)"
   ]
  },
  {
   "cell_type": "code",
   "execution_count": null,
   "metadata": {},
   "outputs": [],
   "source": [
    "dataset = p.run()"
   ]
  },
  {
   "cell_type": "code",
   "execution_count": null,
   "metadata": {},
   "outputs": [],
   "source": [
    "dataset"
   ]
  },
  {
   "cell_type": "code",
   "execution_count": null,
   "metadata": {},
   "outputs": [],
   "source": [
    "raw_dataset = dataset.copy()"
   ]
  },
  {
   "cell_type": "markdown",
   "metadata": {},
   "source": [
    "## Time Series Analysis"
   ]
  },
  {
   "cell_type": "code",
   "execution_count": null,
   "metadata": {},
   "outputs": [],
   "source": [
    "ts = dataset[\"Target\"]"
   ]
  },
  {
   "cell_type": "code",
   "execution_count": null,
   "metadata": {},
   "outputs": [],
   "source": [
    "sample_ids = np.random.choice(ts.index.get_level_values(0), 25, replace=False)\n",
    "\n",
    "fig, ax = plt.subplots(5, 5, figsize=(16, 16))\n",
    "for i, Id in enumerate(sample_ids):\n",
    "    _ = sm.graphics.tsa.plot_acf(ts.xs(Id, level=0), zero=False, ax=ax[i % 5][i // 5], title=f\"{Id}\")"
   ]
  },
  {
   "cell_type": "code",
   "execution_count": null,
   "metadata": {},
   "outputs": [],
   "source": [
    "monthly_corr = [(month, data.unstack(0).corr()) for month, data in ts.groupby(pd.Grouper(level=1, freq=\"3M\"))]"
   ]
  },
  {
   "cell_type": "code",
   "execution_count": null,
   "metadata": {},
   "outputs": [],
   "source": [
    "fig, ax = plt.subplots(5, 4, figsize=(20, 16))\n",
    "for i, (month, data) in enumerate(monthly_corr[:-1]):\n",
    "    sns.heatmap(data, ax=ax[i % 5][i // 5], xticklabels=False, yticklabels=False, cbar=False)"
   ]
  },
  {
   "cell_type": "code",
   "execution_count": null,
   "metadata": {},
   "outputs": [],
   "source": []
  },
  {
   "cell_type": "markdown",
   "metadata": {},
   "source": [
    "## OLS"
   ]
  },
  {
   "cell_type": "code",
   "execution_count": null,
   "metadata": {},
   "outputs": [],
   "source": [
    "data_train.columns"
   ]
  },
  {
   "cell_type": "code",
   "execution_count": null,
   "metadata": {},
   "outputs": [],
   "source": [
    "ols_data_train = data_train[[f\"ResidReturnD{i}\" for i in range(-1, -2, -1)] + [f\"Volume{i}\" for i in range(-1, -2, -1)] + [\"Target\"]]"
   ]
  },
  {
   "cell_type": "code",
   "execution_count": null,
   "metadata": {},
   "outputs": [],
   "source": [
    "ols_X_train, ols_y_train = ols_data_train.drop(\"Target\", axis=1), ols_data_train[\"Target\"]"
   ]
  },
  {
   "cell_type": "code",
   "execution_count": null,
   "metadata": {},
   "outputs": [],
   "source": [
    "ols_X_train = sm.add_constant(ols_X_train)"
   ]
  },
  {
   "cell_type": "code",
   "execution_count": null,
   "metadata": {},
   "outputs": [],
   "source": [
    "ols_X_train"
   ]
  },
  {
   "cell_type": "code",
   "execution_count": null,
   "metadata": {},
   "outputs": [],
   "source": []
  },
  {
   "cell_type": "code",
   "execution_count": null,
   "metadata": {},
   "outputs": [],
   "source": [
    "plt.scatter(ols_X_train[\"ResidReturnD-1\"][:10000], ols_y_train[:10000])"
   ]
  },
  {
   "cell_type": "code",
   "execution_count": null,
   "metadata": {},
   "outputs": [],
   "source": [
    "ols = sm.regression.linear_model.OLS(ols_y_train, ols_X_train).fit()"
   ]
  },
  {
   "cell_type": "code",
   "execution_count": null,
   "metadata": {},
   "outputs": [],
   "source": [
    "ols.summary()"
   ]
  },
  {
   "cell_type": "code",
   "execution_count": null,
   "metadata": {},
   "outputs": [],
   "source": []
  },
  {
   "cell_type": "markdown",
   "metadata": {},
   "source": [
    "## Naive XGBoost"
   ]
  },
  {
   "cell_type": "code",
   "execution_count": null,
   "metadata": {},
   "outputs": [],
   "source": [
    "from sklearn.model_selection import train_test_split\n",
    "import xgboost as xgb"
   ]
  },
  {
   "cell_type": "code",
   "execution_count": null,
   "metadata": {},
   "outputs": [],
   "source": [
    "dataset"
   ]
  },
  {
   "cell_type": "code",
   "execution_count": null,
   "metadata": {},
   "outputs": [],
   "source": [
    "data_train = dataset.fillna(0).reset_index(0).loc[:'2014-01-01'].set_index(\"level_0\", append=True).swaplevel(0,1)"
   ]
  },
  {
   "cell_type": "code",
   "execution_count": null,
   "metadata": {},
   "outputs": [],
   "source": [
    "data_val = dataset.fillna(0).reset_index(0).loc['2014-01-01':].set_index(\"level_0\", append=True).swaplevel(0,1)"
   ]
  },
  {
   "cell_type": "code",
   "execution_count": null,
   "metadata": {},
   "outputs": [],
   "source": [
    "X_train, y_train = data_train.drop(\"Target\", axis=1), data_train['Target']"
   ]
  },
  {
   "cell_type": "code",
   "execution_count": null,
   "metadata": {},
   "outputs": [],
   "source": [
    "X_train"
   ]
  },
  {
   "cell_type": "code",
   "execution_count": null,
   "metadata": {},
   "outputs": [],
   "source": [
    "y_train"
   ]
  },
  {
   "cell_type": "code",
   "execution_count": null,
   "metadata": {},
   "outputs": [],
   "source": [
    "dtrain_reg = xgb.DMatrix(X_train, y_train)"
   ]
  },
  {
   "cell_type": "code",
   "execution_count": null,
   "metadata": {},
   "outputs": [],
   "source": [
    "params = {\"objective\": \"reg:squarederror\"}"
   ]
  },
  {
   "cell_type": "code",
   "execution_count": null,
   "metadata": {},
   "outputs": [],
   "source": [
    "n = 100\n",
    "\n",
    "model = xgb.train(\n",
    "\n",
    "   params=params,\n",
    "\n",
    "   dtrain=dtrain_reg,\n",
    "\n",
    "   num_boost_round=n,\n",
    "\n",
    ")"
   ]
  },
  {
   "cell_type": "code",
   "execution_count": null,
   "metadata": {},
   "outputs": [],
   "source": [
    "print(model.eval(dtrain_reg))"
   ]
  },
  {
   "cell_type": "markdown",
   "metadata": {},
   "source": [
    "## Hidden Markov Chain for Market Regimes"
   ]
  },
  {
   "cell_type": "code",
   "execution_count": null,
   "metadata": {},
   "outputs": [],
   "source": [
    "from hmmlearn import hmm"
   ]
  },
  {
   "cell_type": "code",
   "execution_count": null,
   "metadata": {},
   "outputs": [],
   "source": [
    "yess = market_weights.copy().swaplevel(0,1)"
   ]
  },
  {
   "cell_type": "code",
   "execution_count": null,
   "metadata": {},
   "outputs": [],
   "source": [
    "yess.drop(list(set(yess.index) - (set(X_train[\"ResidReturnD-1\"].index))), inplace=True)"
   ]
  },
  {
   "cell_type": "code",
   "execution_count": null,
   "metadata": {},
   "outputs": [],
   "source": [
    "yess.index.names = (\"level_0\", None)"
   ]
  },
  {
   "cell_type": "code",
   "execution_count": null,
   "metadata": {},
   "outputs": [],
   "source": [
    "oui = X_train[\"ResidReturnD-1\"].copy()\n",
    "oui.rename(\"Weight\", inplace=True)\n",
    "oui"
   ]
  },
  {
   "cell_type": "code",
   "execution_count": null,
   "metadata": {},
   "outputs": [],
   "source": []
  },
  {
   "cell_type": "code",
   "execution_count": null,
   "metadata": {},
   "outputs": [],
   "source": [
    "class HMMProcessor(Standardizer):\n",
    "    def transform(self, series):\n",
    "        self._index = series.index\n",
    "        normalized_data = super().transform(series)\n",
    "        ts_data = [data.values for _, data in normalized_data.stack().groupby(level=0)]\n",
    "        lengths = [ts.shape[0] for ts in ts_data]\n",
    "        ts_concat = np.concatenate(ts_data).reshape(-1, 1)\n",
    "        return ts_concat, lengths\n",
    "    \n",
    "    def inverse_transform(self, predictions):\n",
    "        return pd.DataFrame(predictions, index=self._index, columns=[\"Cycle\"]).unstack(0).T.droplevel(0).stack(0)\n",
    "            "
   ]
  },
  {
   "cell_type": "code",
   "execution_count": null,
   "metadata": {},
   "outputs": [],
   "source": [
    "processor = HMMProcessor().fit(X_train[\"ResidReturnD-1\"])"
   ]
  },
  {
   "cell_type": "code",
   "execution_count": null,
   "metadata": {},
   "outputs": [],
   "source": [
    "hmm_train, lengths_train = processor.transform(y_train)"
   ]
  },
  {
   "cell_type": "code",
   "execution_count": null,
   "metadata": {},
   "outputs": [],
   "source": [
    "num_hmm = 10"
   ]
  },
  {
   "cell_type": "code",
   "execution_count": null,
   "metadata": {},
   "outputs": [],
   "source": [
    "boosted_markov = []\n",
    "for _ in range(num_hmm):\n",
    "    boosted_markov.append(hmm.GaussianHMM(n_components=3).fit(hmm_train, lengths=lengths_train))\n",
    "    "
   ]
  },
  {
   "cell_type": "code",
   "execution_count": null,
   "metadata": {},
   "outputs": [],
   "source": [
    "preds = []\n",
    "for model in boosted_markov:\n",
    "    preds.append(model.predict(hmm_train))"
   ]
  },
  {
   "cell_type": "code",
   "execution_count": null,
   "metadata": {},
   "outputs": [],
   "source": [
    "preds"
   ]
  },
  {
   "cell_type": "code",
   "execution_count": null,
   "metadata": {},
   "outputs": [],
   "source": [
    "y_pred_train = scipy.stats.mode(np.concatenate(preds).reshape(10, -1))[0].squeeze(0)"
   ]
  },
  {
   "cell_type": "code",
   "execution_count": null,
   "metadata": {},
   "outputs": [],
   "source": [
    "#hmmmodel_1 = hmm.GMMHMM(n_components=3).fit(hmm_train, lengths=lengths_train)"
   ]
  },
  {
   "cell_type": "code",
   "execution_count": null,
   "metadata": {},
   "outputs": [],
   "source": [
    "y_pred_train = hmmmodel_1.predict(hmm_train)"
   ]
  },
  {
   "cell_type": "code",
   "execution_count": null,
   "metadata": {},
   "outputs": [],
   "source": [
    "market_cycles_per_id = processor.inverse_transform(y_pred_train).unstack(1)\n",
    "market_cycles_per_id.index.name = \"Id\"\n",
    "market_cycles_per_id"
   ]
  },
  {
   "cell_type": "code",
   "execution_count": null,
   "metadata": {},
   "outputs": [],
   "source": [
    "vol_window = 20"
   ]
  },
  {
   "cell_type": "code",
   "execution_count": null,
   "metadata": {},
   "outputs": [],
   "source": [
    "vol_per_id = y_train.unstack(0).rolling(vol_window).std()\n",
    "vol_per_id.columns.name = \"Id\"\n",
    "vol_per_id"
   ]
  },
  {
   "cell_type": "code",
   "execution_count": null,
   "metadata": {},
   "outputs": [],
   "source": [
    "joint = market_cycles_per_id.stack().to_frame().merge(vol_per_id.stack().swaplevel(0,1).to_frame(), how=\"inner\", left_index=True, right_index=True)\n",
    "joint[\"rets\"] = dataset[\"Target\"]\n",
    "joint.columns=[\"Cycle\", \"Vol\", \"Rets\"]\n",
    "joint"
   ]
  },
  {
   "cell_type": "code",
   "execution_count": null,
   "metadata": {},
   "outputs": [],
   "source": [
    "joint[\"Cycle\"].value_counts()"
   ]
  },
  {
   "cell_type": "code",
   "execution_count": null,
   "metadata": {},
   "outputs": [],
   "source": [
    "sns.violinplot(x=joint[\"Cycle\"].values, y=joint[\"Rets\"].values)"
   ]
  },
  {
   "cell_type": "code",
   "execution_count": null,
   "metadata": {},
   "outputs": [],
   "source": [
    "sns.violinplot(x=joint[\"Cycle\"].values, y=joint[\"Vol\"].values)"
   ]
  },
  {
   "cell_type": "code",
   "execution_count": null,
   "metadata": {},
   "outputs": [],
   "source": [
    "mode_weights = market_weights.unstack(level=0).droplevel(0, axis=1)"
   ]
  },
  {
   "cell_type": "code",
   "execution_count": null,
   "metadata": {},
   "outputs": [],
   "source": [
    "mode_weights.drop(list(set(mode_weights.index) - (set(market_cycles_per_id.index))), inplace=True)\n",
    "mode_weights"
   ]
  },
  {
   "cell_type": "code",
   "execution_count": null,
   "metadata": {},
   "outputs": [],
   "source": [
    "from sklearn.utils.extmath import weighted_mode"
   ]
  },
  {
   "cell_type": "code",
   "execution_count": null,
   "metadata": {},
   "outputs": [],
   "source": [
    "market_cycles = market_cycles_per_id.apply(lambda x: weighted_mode(x, mode_weights[x.name])[0]).T.rename(columns={0:\"cycle\"})"
   ]
  },
  {
   "cell_type": "code",
   "execution_count": null,
   "metadata": {},
   "outputs": [],
   "source": [
    "market_cycles"
   ]
  },
  {
   "cell_type": "code",
   "execution_count": null,
   "metadata": {},
   "outputs": [],
   "source": [
    "market_cycles.value_counts()"
   ]
  },
  {
   "cell_type": "code",
   "execution_count": null,
   "metadata": {},
   "outputs": [],
   "source": [
    "smoothed_window = 20"
   ]
  },
  {
   "cell_type": "code",
   "execution_count": null,
   "metadata": {},
   "outputs": [],
   "source": [
    "smoothed_market_cycles = market_cycles.rolling(smoothed_window).apply(lambda x: x.mode()[0]).dropna()#.reset_index().plot(kind='scatter', x=\"index\", y=0)"
   ]
  },
  {
   "cell_type": "code",
   "execution_count": null,
   "metadata": {},
   "outputs": [],
   "source": [
    "smoothed_market_cycles"
   ]
  },
  {
   "cell_type": "code",
   "execution_count": null,
   "metadata": {},
   "outputs": [],
   "source": [
    "smoothed_market_cycles.value_counts()"
   ]
  },
  {
   "cell_type": "code",
   "execution_count": null,
   "metadata": {},
   "outputs": [],
   "source": [
    "y_train.groupby(level=0).rolling(window=20).std()"
   ]
  },
  {
   "cell_type": "code",
   "execution_count": null,
   "metadata": {},
   "outputs": [],
   "source": [
    "vol = vol_per_id.apply(lambda x: np.average(x, weights=mode_weights[x.name]), axis=1)\n",
    "vol.name = \"vol\""
   ]
  },
  {
   "cell_type": "code",
   "execution_count": null,
   "metadata": {},
   "outputs": [],
   "source": [
    "vol"
   ]
  },
  {
   "cell_type": "code",
   "execution_count": null,
   "metadata": {},
   "outputs": [],
   "source": [
    "cycle_chars = smoothed_market_cycles.merge(vol, how=\"left\", left_index=True, right_index=True)"
   ]
  },
  {
   "cell_type": "code",
   "execution_count": null,
   "metadata": {},
   "outputs": [],
   "source": [
    "cycle_chars"
   ]
  },
  {
   "cell_type": "code",
   "execution_count": null,
   "metadata": {},
   "outputs": [],
   "source": [
    "mean_ret = y_train.unstack(0).fillna(0).apply(lambda x: np.average(x, weights=mode_weights[x.name].fillna(0)), axis=1)\n",
    "mean_ret"
   ]
  },
  {
   "cell_type": "code",
   "execution_count": null,
   "metadata": {},
   "outputs": [],
   "source": [
    "cycle_chars[\"mean_ret\"] = mean_ret"
   ]
  },
  {
   "cell_type": "code",
   "execution_count": null,
   "metadata": {},
   "outputs": [],
   "source": [
    "import seaborn as sns"
   ]
  },
  {
   "cell_type": "code",
   "execution_count": null,
   "metadata": {},
   "outputs": [],
   "source": [
    "sns.violinplot(cycle_chars[\"cycle\"], cycle_chars[\"vol\"])"
   ]
  },
  {
   "cell_type": "code",
   "execution_count": null,
   "metadata": {},
   "outputs": [],
   "source": [
    "sns.violinplot(cycle_chars[\"cycle\"], cycle_chars[\"mean_ret\"])"
   ]
  },
  {
   "cell_type": "code",
   "execution_count": null,
   "metadata": {},
   "outputs": [],
   "source": [
    "sub_dataset = dataset.copy()"
   ]
  },
  {
   "cell_type": "code",
   "execution_count": null,
   "metadata": {},
   "outputs": [],
   "source": [
    "sub_dataset"
   ]
  },
  {
   "cell_type": "code",
   "execution_count": null,
   "metadata": {},
   "outputs": [],
   "source": [
    "usecols = [f\"ResidReturnD{i}\" for i in range(-1, -5, -1)] + [f\"Volume{i}\" for i in range(-1, -26, -1)] + [\"Target\"]"
   ]
  },
  {
   "cell_type": "code",
   "execution_count": null,
   "metadata": {},
   "outputs": [],
   "source": [
    "sub_dataset = sub_dataset[usecols]"
   ]
  },
  {
   "cell_type": "code",
   "execution_count": null,
   "metadata": {},
   "outputs": [],
   "source": [
    "sub_dataset"
   ]
  },
  {
   "cell_type": "code",
   "execution_count": null,
   "metadata": {},
   "outputs": [],
   "source": [
    "sub_dataset[\"Daily_Volume\"] = sub_dataset[[f\"Volume{i}\" for i in range(-1, -26, -1)]].sum(axis=1)\n",
    "sub_dataset.drop([f\"Volume{i}\" for i in range(-1, -26, -1)], axis=1, inplace=True)"
   ]
  },
  {
   "cell_type": "code",
   "execution_count": null,
   "metadata": {},
   "outputs": [],
   "source": [
    "sub_dataset[\"HMMCycle\"] = market_cycles_per_id.stack().astype(\"category\")"
   ]
  },
  {
   "cell_type": "code",
   "execution_count": null,
   "metadata": {},
   "outputs": [],
   "source": [
    "sub_dataset"
   ]
  },
  {
   "cell_type": "code",
   "execution_count": null,
   "metadata": {},
   "outputs": [],
   "source": [
    "sub_dataset.swaplevel(0,1).sort_index()"
   ]
  },
  {
   "cell_type": "code",
   "execution_count": null,
   "metadata": {},
   "outputs": [],
   "source": [
    "sub_data_train = sub_dataset.reset_index(0).loc[:'2014-01-01'].set_index(\"level_0\", append=True).swaplevel(0,1).dropna()\n"
   ]
  },
  {
   "cell_type": "code",
   "execution_count": null,
   "metadata": {},
   "outputs": [],
   "source": [
    "sub_data_val = sub_dataset.reset_index(0).loc['2014-01-01':].set_index(\"level_0\", append=True).swaplevel(0,1)"
   ]
  },
  {
   "cell_type": "code",
   "execution_count": null,
   "metadata": {},
   "outputs": [],
   "source": [
    "sub_data_val"
   ]
  },
  {
   "cell_type": "code",
   "execution_count": null,
   "metadata": {},
   "outputs": [],
   "source": [
    "sub_data_val[\"ResidReturnD-1\"]"
   ]
  },
  {
   "cell_type": "code",
   "execution_count": null,
   "metadata": {},
   "outputs": [],
   "source": [
    "hmm_raw_val_input = sub_data_val[\"ResidReturnD-1\"].unstack(1)\n",
    "complete_hmm_val_input = pd.DataFrame(np.nan, index=hmm_df.index, columns=hmm_raw_val_input.columns).fillna(hmm_raw_val_input)\n",
    "hmm_val_input_df = pd.DataFrame(hmm_scaler.transform(complete_hmm_val_input.T), index=complete_hmm_val_input.columns, columns=complete_hmm_val_input.index).T"
   ]
  },
  {
   "cell_type": "code",
   "execution_count": null,
   "metadata": {},
   "outputs": [],
   "source": [
    "hmm_raw_val_input"
   ]
  },
  {
   "cell_type": "code",
   "execution_count": null,
   "metadata": {},
   "outputs": [],
   "source": [
    "hmm_val_input_df"
   ]
  },
  {
   "cell_type": "code",
   "execution_count": null,
   "metadata": {},
   "outputs": [],
   "source": []
  },
  {
   "cell_type": "code",
   "execution_count": null,
   "metadata": {},
   "outputs": [],
   "source": [
    "hmm_raw_val_input"
   ]
  },
  {
   "cell_type": "code",
   "execution_count": null,
   "metadata": {},
   "outputs": [],
   "source": [
    "hmm_ts_val = [data.values for _, data in hmm_val_input_df.stack().groupby(level=0)]\n",
    "lengths_val = [ts.shape[0] for ts in hmm_ts_val]\n",
    "hmmdata_val = np.concatenate(hmm_ts_val).reshape(-1, 1)"
   ]
  },
  {
   "cell_type": "code",
   "execution_count": null,
   "metadata": {},
   "outputs": [],
   "source": [
    "hmm_ts_val"
   ]
  },
  {
   "cell_type": "code",
   "execution_count": null,
   "metadata": {},
   "outputs": [],
   "source": []
  },
  {
   "cell_type": "code",
   "execution_count": null,
   "metadata": {},
   "outputs": [],
   "source": [
    "pd.DataFrame(hmmmodel.predict(hmmdata_val, lengths=lengths_val), index=sub_data_val.index, columns=[\"Cycle\"]).unstack(0).T.droplevel(0)"
   ]
  },
  {
   "cell_type": "code",
   "execution_count": null,
   "metadata": {},
   "outputs": [],
   "source": [
    "sub_X_train, sub_y_train = sub_data_train.drop(\"Target\", axis=1), sub_data_train['Target']\n"
   ]
  },
  {
   "cell_type": "code",
   "execution_count": null,
   "metadata": {},
   "outputs": [],
   "source": [
    "sub_X_val, sub_y_val = sub_data_val.drop(\"Target\", axis=1), sub_data_val['Target']"
   ]
  },
  {
   "cell_type": "code",
   "execution_count": null,
   "metadata": {},
   "outputs": [],
   "source": [
    "sub_X_val"
   ]
  },
  {
   "cell_type": "code",
   "execution_count": null,
   "metadata": {},
   "outputs": [],
   "source": [
    "dsub_train_reg = xgb.DMatrix(sub_X_train, sub_y_train, enable_categorical=True)\n"
   ]
  },
  {
   "cell_type": "code",
   "execution_count": null,
   "metadata": {},
   "outputs": [],
   "source": [
    "dsub_val_reg = xgb.DMatrix(sub_X_val, sub_y_val, enable_categorical=True)"
   ]
  },
  {
   "cell_type": "code",
   "execution_count": null,
   "metadata": {},
   "outputs": [],
   "source": []
  },
  {
   "cell_type": "code",
   "execution_count": null,
   "metadata": {},
   "outputs": [],
   "source": [
    "n = 100\n",
    "\n",
    "sub_model = xgb.train(\n",
    "\n",
    "   params={\"objective\": \"reg:squarederror\"},\n",
    "\n",
    "   dtrain=dsub_train_reg,\n",
    "\n",
    "   num_boost_round=n\n",
    "\n",
    ")"
   ]
  },
  {
   "cell_type": "code",
   "execution_count": null,
   "metadata": {},
   "outputs": [],
   "source": [
    "print(sub_model.eval(dsub_train_reg))"
   ]
  },
  {
   "cell_type": "code",
   "execution_count": null,
   "metadata": {},
   "outputs": [],
   "source": [
    "sub_y_train"
   ]
  },
  {
   "cell_type": "code",
   "execution_count": null,
   "metadata": {},
   "outputs": [],
   "source": [
    "SST_IN = ((sub_y_train - sub_y_train.unstack(0).mean()) ** 2).mean()"
   ]
  },
  {
   "cell_type": "code",
   "execution_count": null,
   "metadata": {},
   "outputs": [],
   "source": [
    "SSR_IN = ((sub_y_train - sub_model.predict(dsub_train_reg)) ** 2).mean()\n"
   ]
  },
  {
   "cell_type": "code",
   "execution_count": null,
   "metadata": {},
   "outputs": [],
   "source": [
    "1 - SSR/SST"
   ]
  },
  {
   "cell_type": "code",
   "execution_count": null,
   "metadata": {},
   "outputs": [],
   "source": []
  },
  {
   "cell_type": "code",
   "execution_count": null,
   "metadata": {},
   "outputs": [],
   "source": [
    "xgb.plot_importance(sub_model)"
   ]
  },
  {
   "cell_type": "code",
   "execution_count": null,
   "metadata": {},
   "outputs": [],
   "source": [
    "sub_model.predict(dsub_val_reg)"
   ]
  },
  {
   "cell_type": "code",
   "execution_count": null,
   "metadata": {},
   "outputs": [],
   "source": [
    "print(sub_model.eval(dsub_val_reg))"
   ]
  },
  {
   "cell_type": "code",
   "execution_count": null,
   "metadata": {},
   "outputs": [],
   "source": []
  },
  {
   "cell_type": "code",
   "execution_count": null,
   "metadata": {},
   "outputs": [],
   "source": []
  }
 ],
 "metadata": {
  "kernelspec": {
   "display_name": "Python 3 (ipykernel)",
   "language": "python",
   "name": "python3"
  },
  "language_info": {
   "codemirror_mode": {
    "name": "ipython",
    "version": 3
   },
   "file_extension": ".py",
   "mimetype": "text/x-python",
   "name": "python",
   "nbconvert_exporter": "python",
   "pygments_lexer": "ipython3",
   "version": "3.9.5"
  }
 },
 "nbformat": 4,
 "nbformat_minor": 2
}
